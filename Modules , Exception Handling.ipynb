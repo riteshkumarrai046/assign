{
 "cells": [
  {
   "cell_type": "code",
   "execution_count": 7,
   "id": "1df2e88e",
   "metadata": {},
   "outputs": [
    {
     "name": "stdout",
     "output_type": "stream",
     "text": [
      "division by zero\n"
     ]
    }
   ],
   "source": [
    "'''#1 - Write a function to compute 5/0 and use try/except to catch the exceptions.''' \n",
    "def calci(a,b):\n",
    "    try:\n",
    "        return a/b\n",
    "    except Exception as e:\n",
    "        print(e)\n",
    "calci(5,0)"
   ]
  },
  {
   "cell_type": "code",
   "execution_count": 10,
   "id": "4d31ec0b",
   "metadata": {},
   "outputs": [
    {
     "name": "stdout",
     "output_type": "stream",
     "text": [
      "Americans Play Baseball.\n",
      "Americans Play cricket.\n",
      "Americans watch Baseball.\n",
      "Americans watch cricket.\n",
      "Indians Play Baseball.\n",
      "Indians Play cricket.\n",
      "Indians watch Baseball.\n",
      "Indians watch cricket.\n"
     ]
    }
   ],
   "source": [
    "'''#2 - Implement a Python program to generate all sentences where subject is in\n",
    "[\"Americans\", \"Indians\"] and verb is in [\"Play\", \"watch\"] and the object is in\n",
    "[\"Baseball\",\"cricket\"].'''\n",
    "\n",
    "def allouto(subj,verbs,obje):\n",
    "    for i in subj:\n",
    "        for j in verbs:\n",
    "            for k in obje:\n",
    "                print(f\"{i} {j} {k}.\")\n",
    "allouto([\"Americans\", \"Indians\"],[\"Play\", \"watch\"],[\"Baseball\",\"cricket\"])"
   ]
  },
  {
   "cell_type": "code",
   "execution_count": null,
   "id": "489a4dbb",
   "metadata": {},
   "outputs": [],
   "source": []
  }
 ],
 "metadata": {
  "kernelspec": {
   "display_name": "Python 3",
   "language": "python",
   "name": "python3"
  },
  "language_info": {
   "codemirror_mode": {
    "name": "ipython",
    "version": 3
   },
   "file_extension": ".py",
   "mimetype": "text/x-python",
   "name": "python",
   "nbconvert_exporter": "python",
   "pygments_lexer": "ipython3",
   "version": "3.8.8"
  }
 },
 "nbformat": 4,
 "nbformat_minor": 5
}
