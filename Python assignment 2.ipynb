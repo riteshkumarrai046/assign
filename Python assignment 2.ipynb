{
 "cells": [
  {
   "cell_type": "markdown",
   "id": "7e20e8c1",
   "metadata": {},
   "source": [
    "# 1- PRINT BELOW PATTERN"
   ]
  },
  {
   "cell_type": "code",
   "execution_count": 15,
   "id": "086320bf",
   "metadata": {},
   "outputs": [
    {
     "name": "stdout",
     "output_type": "stream",
     "text": [
      "\n",
      "*\n",
      "**\n",
      "***\n",
      "****\n",
      "*****\n",
      "*****\n",
      "****\n",
      "***\n",
      "**\n",
      "*\n"
     ]
    }
   ],
   "source": [
    "for i in range(6):\n",
    "    print(i*\"*\")\n",
    "for j in range(i,0,-1):\n",
    "    print(j*\"*\")"
   ]
  },
  {
   "cell_type": "markdown",
   "id": "313d7288",
   "metadata": {},
   "source": [
    "# 2 - Write a Python program to reverse a word after accepting the input from the user."
   ]
  },
  {
   "cell_type": "code",
   "execution_count": 16,
   "id": "d9db04c9",
   "metadata": {},
   "outputs": [
    {
     "name": "stdout",
     "output_type": "stream",
     "text": [
      "Please enter the word which you want to reverse :ineuron\n",
      "norueni\n"
     ]
    }
   ],
   "source": [
    "word=input(\"Please enter the word which you want to reverse :\")\n",
    "print(word[::-1])"
   ]
  },
  {
   "cell_type": "code",
   "execution_count": null,
   "id": "a611d2cf",
   "metadata": {},
   "outputs": [],
   "source": []
  }
 ],
 "metadata": {
  "kernelspec": {
   "display_name": "Python 3",
   "language": "python",
   "name": "python3"
  },
  "language_info": {
   "codemirror_mode": {
    "name": "ipython",
    "version": 3
   },
   "file_extension": ".py",
   "mimetype": "text/x-python",
   "name": "python",
   "nbconvert_exporter": "python",
   "pygments_lexer": "ipython3",
   "version": "3.8.8"
  }
 },
 "nbformat": 4,
 "nbformat_minor": 5
}
